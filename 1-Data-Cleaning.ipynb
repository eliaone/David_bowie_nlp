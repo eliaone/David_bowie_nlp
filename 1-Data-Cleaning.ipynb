{
 "cells": [
  {
   "cell_type": "markdown",
   "metadata": {
    "collapsed": true,
    "pycharm": {
     "name": "#%% md\n"
    }
   },
   "source": [
    "# Introduction\n",
    "This notebook goes through multi-processing of NLP for aiming to analyse the dependency of David Bowie with the Media's\n",
    "\n",
    "Specifically, we'll be walking through:\n",
    "\n",
    " - **Getting the data** - in this case, we'll be get the data from a dataset in .csv\n",
    " - **Cleaning the data** - we will walk through popular text pre-processing techniques\n",
    " - **Organizing the data** - we will organize the cleaned data into a way that is easy to input into other algorithms\n",
    "\n",
    "The output of this notebook will be clean, organized data in two standard text formats:\n",
    "\n",
    "  - Corpus - a collection of text\n",
    "  - Document-Term Matrix - word counts in matrix format\n",
    "\n",
    "In each formats, we'll divide in 3 category:\n",
    "\n",
    "  - The press - the magazine from the text\n",
    "  - The year of publish - The year of the interview\n",
    "  - The album - Each interview is linked with an album\n",
    "  - Author ?\n",
    "\n",
    "### Problem Statement\n",
    ":WIP\n",
    "\n",
    "# Get the data\n",
    "\n",
    "Luckily, we already have a raw csv, with all our data ready. I have to import the csv, and transform them in dataframe\n",
    "for each categories.\n",
    "\n",
    "As we decided before we have to divide the dataset in 3 high-level category."
   ]
  },
  {
   "cell_type": "code",
   "execution_count": 5,
   "metadata": {
    "pycharm": {
     "name": "#%%\n"
    }
   },
   "outputs": [],
   "source": [
    "import pandas as pd\n",
    "import pickle\n",
    "\n",
    "file = r'data/bowie_txt_analysis.csv'\n",
    "df = pd.read_csv(file)\n",
    "\n",
    "\n",
    "# Pickle all the data\n",
    "all_text = open('./data/pickle/all_text.pkl', 'wb')\n",
    "pickle.dump(df, all_text)\n",
    "\n",
    "# Create separate df for each category\n",
    "df_press = df[['press', 'texte']]\n",
    "df_album = df[['album', 'texte']]\n",
    "df_author = df[['author', 'texte']]\n",
    "\n",
    "df_album = df.groupby(['album'])['texte'].apply(' '.join).reset_index()\n",
    "df_author = df.groupby(['author'])['texte'].apply(' '.join).reset_index()\n",
    "df_press = df.groupby(['press'])['texte'].apply(' '.join).reset_index()\n",
    "\n",
    "# Pickle all the category\n",
    "album_pkl = open('./data/pickle/album.pkl', 'wb')\n",
    "pickle.dump(df_album, album_pkl)\n",
    "\n",
    "author_pkl = open('./data/pickle/author.pkl', 'wb')\n",
    "pickle.dump(df_author, author_pkl)\n",
    "\n",
    "press_pkl = open('./data/pickle/press.pkl', 'wb')\n",
    "pickle.dump(df_press, press_pkl)"
   ]
  },
  {
   "cell_type": "markdown",
   "metadata": {},
   "source": [
    "# Cleaning the data\n",
    "\n",
    "When dealing with numerical data, data cleaning often involves removing null values and duplicate data, dealing with outliers, etc. With text data, there are some common data cleaning techniques, which are also known as text pre-processing techniques.\n",
    "\n",
    "With text data, this cleaning process can go on forever. There's always an exception to every cleaning step. So, we're going to follow the MVP (minimum viable product) approach - start simple and iterate. Here are a bunch of things you can do to clean your data. We're going to execute just the common cleaning steps here and the rest can be done at a later point to improve our results.\n",
    "\n",
    "**Common data cleaning steps on all text**:\n",
    "\n",
    "- Make text all lower case\n",
    "- Remove punctuation\n",
    "- Remove numerical values\n",
    "- Remove common non-sensical text (/n)\n",
    "- Tokenize text\n",
    "- Remove stop words\n",
    "\n",
    "\n",
    "**More data cleaning steps after tokenization**:\n",
    "- Stemming / lemmatization\n",
    "- Parts of speech tagging\n",
    "- Create bi-grams or tri-grams\n",
    "- Deal with typos\n",
    "- And more...\n"
   ]
  },
  {
   "cell_type": "code",
   "execution_count": 6,
   "metadata": {
    "pycharm": {
     "name": "#%%\n"
    }
   },
   "outputs": [],
   "source": [
    "import re\n",
    "import string\n",
    "\n",
    "def clean_text_round1(text):\n",
    "    '''Make text lowercase, remove text in square brackets, remove punctuation and remove words containing numbers.'''\n",
    "    text = text.lower()\n",
    "    text = re.sub('\\[.*?\\]', '', text)\n",
    "    text = re.sub('[%s]' % re.escape(string.punctuation), '', text)\n",
    "    text = re.sub('\\w*\\d\\w*', '', text)\n",
    "    return text\n",
    "\n",
    "def clean_text_round2(text):\n",
    "    '''Get rid of some additional punctuation and non-sensical text that was missed the first time around.'''\n",
    "    text = re.sub('[‘’“”…]', '', text)\n",
    "    text = re.sub('\\n', '', text)\n",
    "    return text\n",
    "\n",
    "round1 = lambda x: clean_text_round1(x)\n",
    "round2 = lambda x: clean_text_round2(x)\n",
    "\n",
    "\n",
    "df_press['texte'] = pd.DataFrame(df_press.texte.apply(round1))\n",
    "df_press['texte'] = pd.DataFrame(df_press.texte.apply(round2))\n",
    "\n",
    "df_album['texte'] = pd.DataFrame(df_album.texte.apply(round1))\n",
    "df_album['texte'] = pd.DataFrame(df_album.texte.apply(round2))\n",
    "\n",
    "df_author['texte'] = pd.DataFrame(df_author.texte.apply(round1))\n",
    "df_author['texte'] = pd.DataFrame(df_author.texte.apply(round2))\n"
   ]
  },
  {
   "cell_type": "markdown",
   "metadata": {},
   "source": [
    "# Organizing The Data\n",
    "I mentioned earlier that the output of this notebook will be clean, organized data in two standard text formats:\n",
    "\n",
    " - **Corpus** - a collection of text\n",
    " - **Document**-Term Matrix - word counts in matrix format\n",
    "\n",
    "## Document-Term Matrix\n",
    "For many of the techniques we'll be using in future notebooks, the text must be tokenized, meaning broken down into smaller pieces. The most common tokenization technique is to break down text into words. We can do this using scikit-learn's CountVectorizer, where every row will represent a different document and every column will represent a different word.\n",
    "\n",
    "In addition, with CountVectorizer, we can remove stop words. Stop words are common words that add no additional meaning to text such as 'a', 'the', etc."
   ]
  },
  {
   "cell_type": "code",
   "execution_count": 7,
   "metadata": {
    "pycharm": {
     "name": "#%%\n"
    }
   },
   "outputs": [],
   "source": [
    "from sklearn.feature_extraction.text import CountVectorizer\n",
    "import matplotlib.pyplot as plt\n",
    "\n",
    "\n",
    "cv = CountVectorizer(stop_words='english')\n",
    "\n",
    "\n",
    "# DTM for press\n",
    "data_press_cv = cv.fit_transform(df_press['texte'])\n",
    "data_press_dtm = pd.DataFrame(data_press_cv.toarray(), columns=cv.get_feature_names())\n",
    "data_press_dtm.index = df_press.press\n",
    "press_dtm_pkl = open('./data/pickle/press_dtm.pkl', 'wb')\n",
    "pickle.dump(data_press_dtm, press_dtm_pkl)\n",
    "\n",
    "# DTM for author\n",
    "data_author_cv = cv.fit_transform(df_author['texte'])\n",
    "data_author_dtm = pd.DataFrame(data_author_cv.toarray(), columns=cv.get_feature_names())\n",
    "data_author_dtm.index = df_author.author\n",
    "author_dtm_pkl = open('./data/pickle/author_dtm.pkl', 'wb')\n",
    "pickle.dump(data_author_dtm, author_dtm_pkl)\n",
    "\n",
    "# DTM for album\n",
    "data_album_cv = cv.fit_transform(df_album['texte'])\n",
    "data_album_dtm = pd.DataFrame(data_album_cv.toarray(), columns=cv.get_feature_names())\n",
    "data_album_dtm.index = df_album.album\n",
    "album_dtm_pkl = open('./data/pickle/album_dtm.pkl', 'wb')\n",
    "pickle.dump(data_album_dtm, album_dtm_pkl)\n",
    "\n",
    "\n",
    "\n",
    "# Let's also pickle the cleaned data (before we put it in document-term matrix format) and the CountVectorizer object\n",
    "import pickle\n",
    "pickle.dump(cv, open(\"./data/pickle/cv.pkl\", \"wb\"))"
   ]
  },
  {
   "cell_type": "code",
   "execution_count": null,
   "metadata": {},
   "outputs": [],
   "source": []
  },
  {
   "cell_type": "code",
   "execution_count": null,
   "metadata": {},
   "outputs": [],
   "source": []
  }
 ],
 "metadata": {
  "kernelspec": {
   "display_name": "Python 3",
   "language": "python",
   "name": "python3"
  },
  "language_info": {
   "codemirror_mode": {
    "name": "ipython",
    "version": 3
   },
   "file_extension": ".py",
   "mimetype": "text/x-python",
   "name": "python",
   "nbconvert_exporter": "python",
   "pygments_lexer": "ipython3",
   "version": "3.8.1"
  }
 },
 "nbformat": 4,
 "nbformat_minor": 1
}